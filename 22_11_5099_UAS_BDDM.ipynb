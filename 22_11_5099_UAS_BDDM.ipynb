{
  "nbformat": 4,
  "nbformat_minor": 0,
  "metadata": {
    "colab": {
      "provenance": [],
      "gpuType": "T4",
      "authorship_tag": "ABX9TyPyQdVLIq0sKXrkdThFttTX",
      "include_colab_link": true
    },
    "kernelspec": {
      "name": "python3",
      "display_name": "Python 3"
    },
    "language_info": {
      "name": "python"
    },
    "accelerator": "GPU"
  },
  "cells": [
    {
      "cell_type": "markdown",
      "metadata": {
        "id": "view-in-github",
        "colab_type": "text"
      },
      "source": [
        "<a href=\"https://colab.research.google.com/github/sofyanz66/5099_Model-Regresi-Random-Forest-untuk-Prediksi-Harga-Cryptocurrency/blob/main/22_11_5099_UAS_BDDM.ipynb\" target=\"_parent\"><img src=\"https://colab.research.google.com/assets/colab-badge.svg\" alt=\"Open In Colab\"/></a>"
      ]
    },
    {
      "cell_type": "markdown",
      "source": [
        "**Nama: Sofyan**\n",
        "\n",
        "**Nim : 22.11.5099**"
      ],
      "metadata": {
        "id": "fti7rtwI_3G4"
      }
    },
    {
      "cell_type": "markdown",
      "source": [
        "#Model Regresi Random Forest untuk Prediksi Harga Cryptocurrency"
      ],
      "metadata": {
        "id": "r3XbrEQ8_zMQ"
      }
    },
    {
      "cell_type": "code",
      "execution_count": 4,
      "metadata": {
        "id": "dTtj8BCsvP8C"
      },
      "outputs": [],
      "source": [
        "import pandas as pd\n",
        "import numpy as np\n",
        "from sklearn.model_selection import train_test_split\n",
        "from sklearn.ensemble import RandomForestRegressor\n",
        "from sklearn.metrics import mean_absolute_error, mean_squared_error, r2_score\n",
        "import joblib"
      ]
    },
    {
      "cell_type": "code",
      "source": [
        "data = pd.read_csv(\"/content/crypto-markets.csv\", nrows=10000)\n",
        "\n",
        "model = RandomForestRegressor(n_estimators=50, random_state=42)"
      ],
      "metadata": {
        "id": "od_cQ6g0v9vS"
      },
      "execution_count": 5,
      "outputs": []
    },
    {
      "cell_type": "code",
      "source": [
        "# Data Preprocessing\n",
        "# Convert 'date' to datetime and sort data\n",
        "data['date'] = pd.to_datetime(data['date'])\n",
        "data = data.sort_values(by='date')"
      ],
      "metadata": {
        "id": "fdE6PzijwI8p"
      },
      "execution_count": 6,
      "outputs": []
    },
    {
      "cell_type": "code",
      "source": [
        "# Select relevant features\n",
        "features = ['open', 'high', 'low', 'volume', 'spread']\n",
        "X = data[features]\n",
        "y = data['close']"
      ],
      "metadata": {
        "id": "pqrFQXcBwLCE"
      },
      "execution_count": 7,
      "outputs": []
    },
    {
      "cell_type": "code",
      "source": [
        "# Handle missing values (if any)\n",
        "X = X.fillna(X.mean())\n",
        "y = y.fillna(y.mean())"
      ],
      "metadata": {
        "id": "C6G2wj-GwOIa"
      },
      "execution_count": 8,
      "outputs": []
    },
    {
      "cell_type": "code",
      "source": [
        "# Train-test split\n",
        "X_train, X_test, y_train, y_test = train_test_split(X, y, test_size=0.2, random_state=42)"
      ],
      "metadata": {
        "id": "AKqlRa-6wRrW"
      },
      "execution_count": 9,
      "outputs": []
    },
    {
      "cell_type": "code",
      "source": [
        "# Modeling\n",
        "model = RandomForestRegressor(n_estimators=100, random_state=42)\n",
        "model.fit(X_train, y_train)\n",
        "\n",
        "# Menyimpan model\n",
        "joblib.dump(model, \"crypto_price_model.pkl\")"
      ],
      "metadata": {
        "colab": {
          "base_uri": "https://localhost:8080/",
          "height": 0
        },
        "id": "vsZ8sFePw_wQ",
        "outputId": "9a5a74fb-ad86-4f7e-f538-1eb6bbd9ec0e"
      },
      "execution_count": 10,
      "outputs": [
        {
          "output_type": "execute_result",
          "data": {
            "text/plain": [
              "['crypto_price_model.pkl']"
            ]
          },
          "metadata": {},
          "execution_count": 10
        }
      ]
    },
    {
      "cell_type": "code",
      "source": [
        "# Evaluation\n",
        "y_pred = model.predict(X_test)\n",
        "mae = mean_absolute_error(y_test, y_pred)\n",
        "mse = mean_squared_error(y_test, y_pred)\n",
        "r2 = r2_score(y_test, y_pred)"
      ],
      "metadata": {
        "id": "pwma1VKFy3BB"
      },
      "execution_count": 11,
      "outputs": []
    },
    {
      "cell_type": "code",
      "source": [
        "# Display evaluation metrics\n",
        "print(\"Mean Absolute Error (MAE):\", mae)\n",
        "print(\"Mean Squared Error (MSE):\", mse)\n",
        "print(\"R-squared (R²):\", r2)"
      ],
      "metadata": {
        "colab": {
          "base_uri": "https://localhost:8080/",
          "height": 0
        },
        "id": "VjxceIB9y-_P",
        "outputId": "3cbcaa71-cb09-47e0-d022-cd9ff50ee591"
      },
      "execution_count": 12,
      "outputs": [
        {
          "output_type": "stream",
          "name": "stdout",
          "text": [
            "Mean Absolute Error (MAE): 13.87027439370668\n",
            "Mean Squared Error (MSE): 5885.323245040653\n",
            "R-squared (R²): 0.9984614237354037\n"
          ]
        }
      ]
    },
    {
      "cell_type": "code",
      "source": [
        "# Example prediction\n",
        "example_data = X_test.iloc[:5]\n",
        "example_predictions = model.predict(example_data)\n",
        "print(\"Example Predictions:\", example_predictions)\n"
      ],
      "metadata": {
        "colab": {
          "base_uri": "https://localhost:8080/",
          "height": 0
        },
        "id": "oZiFsDsozyQ4",
        "outputId": "b919cee0-35ad-4c95-9689-683deca1555b"
      },
      "execution_count": 13,
      "outputs": [
        {
          "output_type": "stream",
          "name": "stdout",
          "text": [
            "Example Predictions: [2.3017748e-01 1.8582200e-03 3.5619000e+00 3.7010000e+00 1.8171200e-03]\n"
          ]
        }
      ]
    },
    {
      "source": [
        "# Load the saved model\n",
        "model = joblib.load(\"crypto_price_model.pkl\")\n",
        "\n",
        "# Create a sample data point for testing (replace with your actual data)\n",
        "sample_data = pd.DataFrame({\n",
        "    'open': [10000],\n",
        "    'high': [10500],\n",
        "    'low': [9500],\n",
        "    'volume': [1000000],\n",
        "    'spread': [1000]\n",
        "})\n",
        "\n",
        "# Make predictions using the loaded model\n",
        "predicted_price = model.predict(sample_data)\n",
        "\n",
        "# Print the predicted price\n",
        "print(\"Predicted Price:\", predicted_price[0])"
      ],
      "cell_type": "code",
      "metadata": {
        "colab": {
          "base_uri": "https://localhost:8080/",
          "height": 0
        },
        "id": "tDWcg4iH0LBf",
        "outputId": "29ba05de-10f4-46d4-caee-5f96810da562"
      },
      "execution_count": 14,
      "outputs": [
        {
          "output_type": "stream",
          "name": "stdout",
          "text": [
            "Predicted Price: 10238.675499999981\n"
          ]
        }
      ]
    },
    {
      "source": [
        "# Visualisasi hasil prediksi\n",
        "import matplotlib.pyplot as plt # Import the matplotlib library and assign it to the alias 'plt'\n",
        "\n",
        "predicted_price = model.predict(sample_data)[0]  # Mengambil nilai prediksi\n",
        "\n",
        "plt.figure(figsize=(8, 6))  # Mengatur ukuran gambar\n",
        "plt.bar(['Predicted Price'], [predicted_price], color='skyblue')\n",
        "plt.title('Crypto Price Prediction')\n",
        "plt.ylabel('Price')\n",
        "plt.ylim(0, predicted_price * 1.2)  # Mengatur batas sumbu y agar lebih jelas\n",
        "plt.text(0, predicted_price + 100, f'{predicted_price:.2f}', ha='center', fontsize=12)  # Menampilkan nilai prediksi di atas bar\n",
        "\n",
        "plt.show()"
      ],
      "cell_type": "code",
      "metadata": {
        "colab": {
          "base_uri": "https://localhost:8080/",
          "height": 545
        },
        "id": "H4lHlPRC2bPo",
        "outputId": "476d706d-799f-4bd9-dfe8-504e3db05a14"
      },
      "execution_count": 17,
      "outputs": [
        {
          "output_type": "display_data",
          "data": {
            "text/plain": [
              "<Figure size 800x600 with 1 Axes>"
            ],
            "image/png": "[encoded data removed]"
          },
          "metadata": {}
        }
      ]
    },
    {
      "cell_type": "code",
      "source": [
        "plt.scatter(y_test, y_pred)\n",
        "plt.xlabel(\"Actual Values\")\n",
        "plt.ylabel(\"Predicted Values\")\n",
        "plt.title(\"Actual vs. Predicted Values\")\n",
        "plt.show()\n",
        "\n",
        "# Menampilkan tabel X_test\n",
        "display(X_test.head()) # Menggunakan display untuk menampilkan tabel di Jupyter Notebook"
      ],
      "metadata": {
        "colab": {
          "base_uri": "https://localhost:8080/",
          "height": 661
        },
        "id": "KB3xP3oB2HFS",
        "outputId": "17f1902a-ff21-43ba-9668-70167d675bdb"
      },
      "execution_count": 18,
      "outputs": [
        {
          "output_type": "display_data",
          "data": {
            "text/plain": [
              "<Figure size 640x480 with 1 Axes>"
            ],
            "image/png": "[encoded data removed]"
          },
          "metadata": {}
        },
        {
          "output_type": "display_data",
          "data": {
            "text/plain": [
              "          open      high       low       volume  spread\n",
              "3438  0.205360  0.247677  0.193839  160620000.0    0.05\n",
              "5914  0.001840  0.001888  0.001809      28249.0    0.00\n",
              "8360  3.500000  3.620000  3.490000    2446510.0    0.13\n",
              "8979  3.870000  3.890000  3.520000    5039290.0    0.37\n",
              "5881  0.001758  0.001858  0.001721      57599.0    0.00"
            ],
            "text/html": [
              "\n",
              "  <div id=\"df-1c4a3aee-8461-46a1-b074-d14c09af2d86\" class=\"colab-df-container\">\n",
              "    <div>\n",
              "<style scoped>\n",
              "    .dataframe tbody tr th:only-of-type {\n",
              "        vertical-align: middle;\n",
              "    }\n",
              "\n",
              "    .dataframe tbody tr th {\n",
              "        vertical-align: top;\n",
              "    }\n",
              "\n",
              "    .dataframe thead th {\n",
              "        text-align: right;\n",
              "    }\n",
              "</style>\n",
              "<table border=\"1\" class=\"dataframe\">\n",
              "  <thead>\n",
              "    <tr style=\"text-align: right;\">\n",
              "      <th></th>\n",
              "      <th>open</th>\n",
              "      <th>high</th>\n",
              "      <th>low</th>\n",
              "      <th>volume</th>\n",
              "      <th>spread</th>\n",
              "    </tr>\n",
              "  </thead>\n",
              "  <tbody>\n",
              "    <tr>\n",
              "      <th>3438</th>\n",
              "      <td>0.205360</td>\n",
              "      <td>0.247677</td>\n",
              "      <td>0.193839</td>\n",
              "      <td>160620000.0</td>\n",
              "      <td>0.05</td>\n",
              "    </tr>\n",
              "    <tr>\n",
              "      <th>5914</th>\n",
              "      <td>0.001840</td>\n",
              "      <td>0.001888</td>\n",
              "      <td>0.001809</td>\n",
              "      <td>28249.0</td>\n",
              "      <td>0.00</td>\n",
              "    </tr>\n",
              "    <tr>\n",
              "      <th>8360</th>\n",
              "      <td>3.500000</td>\n",
              "      <td>3.620000</td>\n",
              "      <td>3.490000</td>\n",
              "      <td>2446510.0</td>\n",
              "      <td>0.13</td>\n",
              "    </tr>\n",
              "    <tr>\n",
              "      <th>8979</th>\n",
              "      <td>3.870000</td>\n",
              "      <td>3.890000</td>\n",
              "      <td>3.520000</td>\n",
              "      <td>5039290.0</td>\n",
              "      <td>0.37</td>\n",
              "    </tr>\n",
              "    <tr>\n",
              "      <th>5881</th>\n",
              "      <td>0.001758</td>\n",
              "      <td>0.001858</td>\n",
              "      <td>0.001721</td>\n",
              "      <td>57599.0</td>\n",
              "      <td>0.00</td>\n",
              "    </tr>\n",
              "  </tbody>\n",
              "</table>\n",
              "</div>\n",
              "    <div class=\"colab-df-buttons\">\n",
              "\n",
              "  <div class=\"colab-df-container\">\n",
              "    <button class=\"colab-df-convert\" onclick=\"convertToInteractive('df-1c4a3aee-8461-46a1-b074-d14c09af2d86')\"\n",
              "            title=\"Convert this dataframe to an interactive table.\"\n",
              "            style=\"display:none;\">\n",
              "\n",
              "  <svg xmlns=\"http://www.w3.org/2000/svg\" height=\"24px\" viewBox=\"0 -960 960 960\">\n",
              "    <path d=\"M120-120v-720h720v720H120Zm60-500h600v-160H180v160Zm220 220h160v-160H400v160Zm0 220h160v-160H400v160ZM180-400h160v-160H180v160Zm440 0h160v-160H620v160ZM180-180h160v-160H180v160Zm440 0h160v-160H620v160Z\"/>\n",
              "  </svg>\n",
              "    </button>\n",
              "\n",
              "  <style>\n",
              "    .colab-df-container {\n",
              "      display:flex;\n",
              "      gap: 12px;\n",
              "    }\n",
              "\n",
              "    .colab-df-convert {\n",
              "      background-color: #E8F0FE;\n",
              "      border: none;\n",
              "      border-radius: 50%;\n",
              "      cursor: pointer;\n",
              "      display: none;\n",
              "      fill: #1967D2;\n",
              "      height: 32px;\n",
              "      padding: 0 0 0 0;\n",
              "      width: 32px;\n",
              "    }\n",
              "\n",
              "    .colab-df-convert:hover {\n",
              "      background-color: #E2EBFA;\n",
              "      box-shadow: 0px 1px 2px rgba(60, 64, 67, 0.3), 0px 1px 3px 1px rgba(60, 64, 67, 0.15);\n",
              "      fill: #174EA6;\n",
              "    }\n",
              "\n",
              "    .colab-df-buttons div {\n",
              "      margin-bottom: 4px;\n",
              "    }\n",
              "\n",
              "    [theme=dark] .colab-df-convert {\n",
              "      background-color: #3B4455;\n",
              "      fill: #D2E3FC;\n",
              "    }\n",
              "\n",
              "    [theme=dark] .colab-df-convert:hover {\n",
              "      background-color: #434B5C;\n",
              "      box-shadow: 0px 1px 3px 1px rgba(0, 0, 0, 0.15);\n",
              "      filter: drop-shadow(0px 1px 2px rgba(0, 0, 0, 0.3));\n",
              "      fill: #FFFFFF;\n",
              "    }\n",
              "  </style>\n",
              "\n",
              "    <script>\n",
              "      const buttonEl =\n",
              "        document.querySelector('#df-1c4a3aee-8461-46a1-b074-d14c09af2d86 button.colab-df-convert');\n",
              "      buttonEl.style.display =\n",
              "        google.colab.kernel.accessAllowed ? 'block' : 'none';\n",
              "\n",
              "      async function convertToInteractive(key) {\n",
              "        const element = document.querySelector('#df-1c4a3aee-8461-46a1-b074-d14c09af2d86');\n",
              "        const dataTable =\n",
              "          await google.colab.kernel.invokeFunction('convertToInteractive',\n",
              "                                                    [key], {});\n",
              "        if (!dataTable) return;\n",
              "\n",
              "        const docLinkHtml = 'Like what you see? Visit the ' +\n",
              "          '<a target=\"_blank\" href=https://colab.research.google.com/notebooks/data_table.ipynb>data table notebook</a>'\n",
              "          + ' to learn more about interactive tables.';\n",
              "        element.innerHTML = '';\n",
              "        dataTable['output_type'] = 'display_data';\n",
              "        await google.colab.output.renderOutput(dataTable, element);\n",
              "        const docLink = document.createElement('div');\n",
              "        docLink.innerHTML = docLinkHtml;\n",
              "        element.appendChild(docLink);\n",
              "      }\n",
              "    </script>\n",
              "  </div>\n",
              "\n",
              "\n",
              "<div id=\"df-c1df9a7e-d836-49d8-b5af-c76e404b693c\">\n",
              "  <button class=\"colab-df-quickchart\" onclick=\"quickchart('df-c1df9a7e-d836-49d8-b5af-c76e404b693c')\"\n",
              "            title=\"Suggest charts\"\n",
              "            style=\"display:none;\">\n",
              "\n",
              "<svg xmlns=\"http://www.w3.org/2000/svg\" height=\"24px\"viewBox=\"0 0 24 24\"\n",
              "     width=\"24px\">\n",
              "    <g>\n",
              "        <path d=\"M19 3H5c-1.1 0-2 .9-2 2v14c0 1.1.9 2 2 2h14c1.1 0 2-.9 2-2V5c0-1.1-.9-2-2-2zM9 17H7v-7h2v7zm4 0h-2V7h2v10zm4 0h-2v-4h2v4z\"/>\n",
              "    </g>\n",
              "</svg>\n",
              "  </button>\n",
              "\n",
              "<style>\n",
              "  .colab-df-quickchart {\n",
              "      --bg-color: #E8F0FE;\n",
              "      --fill-color: #1967D2;\n",
              "      --hover-bg-color: #E2EBFA;\n",
              "      --hover-fill-color: #174EA6;\n",
              "      --disabled-fill-color: #AAA;\n",
              "      --disabled-bg-color: #DDD;\n",
              "  }\n",
              "\n",
              "  [theme=dark] .colab-df-quickchart {\n",
              "      --bg-color: #3B4455;\n",
              "      --fill-color: #D2E3FC;\n",
              "      --hover-bg-color: #434B5C;\n",
              "      --hover-fill-color: #FFFFFF;\n",
              "      --disabled-bg-color: #3B4455;\n",
              "      --disabled-fill-color: #666;\n",
              "  }\n",
              "\n",
              "  .colab-df-quickchart {\n",
              "    background-color: var(--bg-color);\n",
              "    border: none;\n",
              "    border-radius: 50%;\n",
              "    cursor: pointer;\n",
              "    display: none;\n",
              "    fill: var(--fill-color);\n",
              "    height: 32px;\n",
              "    padding: 0;\n",
              "    width: 32px;\n",
              "  }\n",
              "\n",
              "  .colab-df-quickchart:hover {\n",
              "    background-color: var(--hover-bg-color);\n",
              "    box-shadow: 0 1px 2px rgba(60, 64, 67, 0.3), 0 1px 3px 1px rgba(60, 64, 67, 0.15);\n",
              "    fill: var(--button-hover-fill-color);\n",
              "  }\n",
              "\n",
              "  .colab-df-quickchart-complete:disabled,\n",
              "  .colab-df-quickchart-complete:disabled:hover {\n",
              "    background-color: var(--disabled-bg-color);\n",
              "    fill: var(--disabled-fill-color);\n",
              "    box-shadow: none;\n",
              "  }\n",
              "\n",
              "  .colab-df-spinner {\n",
              "    border: 2px solid var(--fill-color);\n",
              "    border-color: transparent;\n",
              "    border-bottom-color: var(--fill-color);\n",
              "    animation:\n",
              "      spin 1s steps(1) infinite;\n",
              "  }\n",
              "\n",
              "  @keyframes spin {\n",
              "    0% {\n",
              "      border-color: transparent;\n",
              "      border-bottom-color: var(--fill-color);\n",
              "      border-left-color: var(--fill-color);\n",
              "    }\n",
              "    20% {\n",
              "      border-color: transparent;\n",
              "      border-left-color: var(--fill-color);\n",
              "      border-top-color: var(--fill-color);\n",
              "    }\n",
              "    30% {\n",
              "      border-color: transparent;\n",
              "      border-left-color: var(--fill-color);\n",
              "      border-top-color: var(--fill-color);\n",
              "      border-right-color: var(--fill-color);\n",
              "    }\n",
              "    40% {\n",
              "      border-color: transparent;\n",
              "      border-right-color: var(--fill-color);\n",
              "      border-top-color: var(--fill-color);\n",
              "    }\n",
              "    60% {\n",
              "      border-color: transparent;\n",
              "      border-right-color: var(--fill-color);\n",
              "    }\n",
              "    80% {\n",
              "      border-color: transparent;\n",
              "      border-right-color: var(--fill-color);\n",
              "      border-bottom-color: var(--fill-color);\n",
              "    }\n",
              "    90% {\n",
              "      border-color: transparent;\n",
              "      border-bottom-color: var(--fill-color);\n",
              "    }\n",
              "  }\n",
              "</style>\n",
              "\n",
              "  <script>\n",
              "    async function quickchart(key) {\n",
              "      const quickchartButtonEl =\n",
              "        document.querySelector('#' + key + ' button');\n",
              "      quickchartButtonEl.disabled = true;  // To prevent multiple clicks.\n",
              "      quickchartButtonEl.classList.add('colab-df-spinner');\n",
              "      try {\n",
              "        const charts = await google.colab.kernel.invokeFunction(\n",
              "            'suggestCharts', [key], {});\n",
              "      } catch (error) {\n",
              "        console.error('Error during call to suggestCharts:', error);\n",
              "      }\n",
              "      quickchartButtonEl.classList.remove('colab-df-spinner');\n",
              "      quickchartButtonEl.classList.add('colab-df-quickchart-complete');\n",
              "    }\n",
              "    (() => {\n",
              "      let quickchartButtonEl =\n",
              "        document.querySelector('#df-c1df9a7e-d836-49d8-b5af-c76e404b693c button');\n",
              "      quickchartButtonEl.style.display =\n",
              "        google.colab.kernel.accessAllowed ? 'block' : 'none';\n",
              "    })();\n",
              "  </script>\n",
              "</div>\n",
              "\n",
              "    </div>\n",
              "  </div>\n"
            ],
            "application/vnd.google.colaboratory.intrinsic+json": {
              "type": "dataframe",
              "summary": "{\n  \"name\": \"display(X_test\",\n  \"rows\": 5,\n  \"fields\": [\n    {\n      \"column\": \"open\",\n      \"properties\": {\n        \"dtype\": \"number\",\n        \"std\": 1.986262717555963,\n        \"min\": 0.001758,\n        \"max\": 3.87,\n        \"num_unique_values\": 5,\n        \"samples\": [\n          0.00184,\n          0.001758,\n          3.5\n        ],\n        \"semantic_type\": \"\",\n        \"description\": \"\"\n      }\n    },\n    {\n      \"column\": \"high\",\n      \"properties\": {\n        \"dtype\": \"number\",\n        \"std\": 2.0155590735606834,\n        \"min\": 0.001858,\n        \"max\": 3.89,\n        \"num_unique_values\": 5,\n        \"samples\": [\n          0.001888,\n          0.001858,\n          3.62\n        ],\n        \"semantic_type\": \"\",\n        \"description\": \"\"\n      }\n    },\n    {\n      \"column\": \"low\",\n      \"properties\": {\n        \"dtype\": \"number\",\n        \"std\": 1.885394269894947,\n        \"min\": 0.001721,\n        \"max\": 3.52,\n        \"num_unique_values\": 5,\n        \"samples\": [\n          0.001809,\n          0.001721,\n          3.49\n        ],\n        \"semantic_type\": \"\",\n        \"description\": \"\"\n      }\n    },\n    {\n      \"column\": \"volume\",\n      \"properties\": {\n        \"dtype\": \"number\",\n        \"std\": 71014932.01986435,\n        \"min\": 28249.0,\n        \"max\": 160620000.0,\n        \"num_unique_values\": 5,\n        \"samples\": [\n          28249.0,\n          57599.0,\n          2446510.0\n        ],\n        \"semantic_type\": \"\",\n        \"description\": \"\"\n      }\n    },\n    {\n      \"column\": \"spread\",\n      \"properties\": {\n        \"dtype\": \"number\",\n        \"std\": 0.15475787540542163,\n        \"min\": 0.0,\n        \"max\": 0.37,\n        \"num_unique_values\": 4,\n        \"samples\": [\n          0.0,\n          0.37,\n          0.05\n        ],\n        \"semantic_type\": \"\",\n        \"description\": \"\"\n      }\n    }\n  ]\n}"
            }
          },
          "metadata": {}
        }
      ]
    },
    {
      "cell_type": "code",
      "source": [
        "# Menambahkan keterangan hasil tes\n",
        "textstr = '\\n'.join((\n",
        "    r'MAE=%.2f' % (mae, ),\n",
        "    r'MSE=%.2f' % (mse, ),\n",
        "    r'R²=%.2f' % (r2, )))\n",
        "props = dict(boxstyle='round', facecolor='wheat', alpha=0.5)\n",
        "ax.text(0.05, 0.95, textstr, transform=ax.transAxes, fontsize=10,\n",
        "        verticalalignment='top', bbox=props)"
      ],
      "metadata": {
        "colab": {
          "base_uri": "https://localhost:8080/",
          "height": 0
        },
        "id": "3mKo8Cm39JUu",
        "outputId": "4e034d22-b017-4a3a-8b80-f42512d8506b"
      },
      "execution_count": 20,
      "outputs": [
        {
          "output_type": "execute_result",
          "data": {
            "text/plain": [
              "Text(0.05, 0.95, 'MAE=13.87\\nMSE=5885.32\\nR²=1.00')"
            ]
          },
          "metadata": {},
          "execution_count": 20
        }
      ]
    },
    {
      "cell_type": "markdown",
      "source": [
        "#Kesimpulan:\n",
        "\n",
        "**Model yang digunakan untuk prediksi harga cryptocurrency adalah Random Forest Regressor, yang termasuk dalam kategori Predictive Analytics dan menggunakan pendekatan Regresi. Model ini dilatih menggunakan data historis meliputi harga pembukaan, harga tertinggi, harga terendah, volume perdagangan,selisih harga untuk memprediksi harga penutupan cryptocurrency, dan menampilkan prediksi harga dan metrik evaluasi model (MAE, MSE, R²).**"
      ],
      "metadata": {
        "id": "Ip-Tgcr7-DZr"
      }
    }
  ]
}